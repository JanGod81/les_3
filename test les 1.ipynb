{
 "cells": [
  {
   "cell_type": "markdown",
   "metadata": {},
   "source": [
    "# oplijsten van begeleid werkers\n",
    "\n",
    "## wat kunnen we hieruit leren?\n",
    "\n",
    "### wat zijn hun demografische gegevens?"
   ]
  },
  {
   "cell_type": "code",
   "execution_count": 19,
   "metadata": {},
   "outputs": [
    {
     "name": "stdout",
     "output_type": "stream",
     "text": [
      "Begeleid werker 5\n",
      "Begeleid werker 4\n",
      "Begeleid werker 3\n",
      "Begeleid werker 2\n",
      "Begeleid werker 1\n"
     ]
    }
   ],
   "source": [
    "BegeleidWerker = 5\n",
    "while BegeleidWerker> 0: \n",
    "    print ('Begeleid werker', BegeleidWerker) \n",
    "    BegeleidWerker= BegeleidWerker - 1\n",
    "\n"
   ]
  },
  {
   "cell_type": "code",
   "execution_count": 20,
   "metadata": {},
   "outputs": [
    {
     "name": "stdout",
     "output_type": "stream",
     "text": [
      "Hallo, dus Jan is de eerste in de lijst, Tom is de tweede en KOen is de derde!\n",
      "Goed, dus Jan is 34, Tom is 35 en KOen is 36 jaar oud!\n"
     ]
    }
   ],
   "source": [
    "BegeleidWerker1= input(\"Wie is de eerste begeleid werker in de lijst?\")\n",
    "BegeleidWerker2= input('Wie is de tweede begeleid werker in de lijst?')\n",
    "BegeleidWerker3= input('Wie is de derde begeleid werker in de lijst?')  \n",
    "print ('Hallo, dus {} is de eerste in de lijst, {} is de tweede en {} is de derde!'.format( BegeleidWerker1,BegeleidWerker2,BegeleidWerker3 ))                    \n",
    "Leeftijd1= input ('Wat is de leeftijd van de eerste begeleid werker?')\n",
    "Leeftijd2= input ('Wat is de leeftijd van de tweede begeleid werker?')\n",
    "Leeftijd3= input ('Wat is de leeftijd van de derde begeleid werker?') \n",
    "print ('Goed, dus {} is {}, {} is {} en {} is {} jaar oud!'.format(BegeleidWerker1,Leeftijd1,BegeleidWerker2,Leeftijd2,BegeleidWerker3,Leeftijd3))\n"
   ]
  },
  {
   "cell_type": "code",
   "execution_count": 21,
   "metadata": {},
   "outputs": [
    {
     "name": "stdout",
     "output_type": "stream",
     "text": [
      "Samen zijn ze 105 jaar oud!\n",
      "Hun gemiddelde leeftijd is 35\n"
     ]
    }
   ],
   "source": [
    "OpgesomdeLeeftijd= int(Leeftijd1)+int(Leeftijd2)+int(Leeftijd3)\n",
    "print ('Samen zijn ze',OpgesomdeLeeftijd, 'jaar oud!')\n",
    "GemiddeldeLeeftijd= int(OpgesomdeLeeftijd/3)\n",
    "print ('Hun gemiddelde leeftijd is',GemiddeldeLeeftijd)\n"
   ]
  }
 ],
 "metadata": {
  "kernelspec": {
   "display_name": "base",
   "language": "python",
   "name": "python3"
  },
  "language_info": {
   "codemirror_mode": {
    "name": "ipython",
    "version": 3
   },
   "file_extension": ".py",
   "mimetype": "text/x-python",
   "name": "python",
   "nbconvert_exporter": "python",
   "pygments_lexer": "ipython3",
   "version": "3.12.7"
  }
 },
 "nbformat": 4,
 "nbformat_minor": 2
}
